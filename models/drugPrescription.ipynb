{
 "cells": [
  {
   "cell_type": "code",
   "execution_count": 4,
   "id": "initial_id",
   "metadata": {
    "collapsed": true,
    "ExecuteTime": {
     "end_time": "2024-12-12T14:54:54.576196Z",
     "start_time": "2024-12-12T14:54:54.556073Z"
    }
   },
   "outputs": [],
   "source": [
    "import pandas as pd\n",
    "\n",
    "# Load datasets\n",
    "description_df = pd.read_csv('../dataset/description.csv')\n",
    "medications_df = pd.read_csv('../dataset/medications.csv')\n",
    "symptoms_df = pd.read_csv('../dataset/symptoms_df.csv')\n"
   ]
  },
  {
   "cell_type": "code",
   "outputs": [
    {
     "name": "stdout",
     "output_type": "stream",
     "text": [
      "<class 'pandas.core.frame.DataFrame'>\n",
      "RangeIndex: 41 entries, 0 to 40\n",
      "Data columns (total 2 columns):\n",
      " #   Column       Non-Null Count  Dtype \n",
      "---  ------       --------------  ----- \n",
      " 0   Disease      41 non-null     object\n",
      " 1   Description  41 non-null     object\n",
      "dtypes: object(2)\n",
      "memory usage: 788.0+ bytes\n",
      "<class 'pandas.core.frame.DataFrame'>\n",
      "RangeIndex: 41 entries, 0 to 40\n",
      "Data columns (total 2 columns):\n",
      " #   Column      Non-Null Count  Dtype \n",
      "---  ------      --------------  ----- \n",
      " 0   Disease     41 non-null     object\n",
      " 1   Medication  41 non-null     object\n",
      "dtypes: object(2)\n",
      "memory usage: 788.0+ bytes\n",
      "<class 'pandas.core.frame.DataFrame'>\n",
      "RangeIndex: 4920 entries, 0 to 4919\n",
      "Data columns (total 6 columns):\n",
      " #   Column      Non-Null Count  Dtype \n",
      "---  ------      --------------  ----- \n",
      " 0   Unnamed: 0  4920 non-null   int64 \n",
      " 1   Disease     4920 non-null   object\n",
      " 2   Symptom_1   4920 non-null   object\n",
      " 3   Symptom_2   4920 non-null   object\n",
      " 4   Symptom_3   4920 non-null   object\n",
      " 5   Symptom_4   4572 non-null   object\n",
      "dtypes: int64(1), object(5)\n",
      "memory usage: 230.8+ KB\n"
     ]
    }
   ],
   "source": [
    "description_df.info()\n",
    "medications_df.info()\n",
    "symptoms_df.info()\n"
   ],
   "metadata": {
    "collapsed": false,
    "ExecuteTime": {
     "end_time": "2024-12-12T15:01:59.694994Z",
     "start_time": "2024-12-12T15:01:59.677805Z"
    }
   },
   "id": "c75eb07d421c483b",
   "execution_count": 18
  },
  {
   "cell_type": "code",
   "outputs": [],
   "source": [],
   "metadata": {
    "collapsed": false,
    "ExecuteTime": {
     "end_time": "2024-12-12T15:03:23.262045Z",
     "start_time": "2024-12-12T15:03:23.258619Z"
    }
   },
   "id": "b944957da0af281c",
   "execution_count": 18
  },
  {
   "cell_type": "code",
   "outputs": [],
   "source": [],
   "metadata": {
    "collapsed": false,
    "ExecuteTime": {
     "end_time": "2024-12-12T15:03:24.163154Z",
     "start_time": "2024-12-12T15:03:24.158659Z"
    }
   },
   "id": "5a8757946ddc4296",
   "execution_count": 18
  },
  {
   "cell_type": "code",
   "outputs": [],
   "source": [],
   "metadata": {
    "collapsed": false,
    "ExecuteTime": {
     "end_time": "2024-12-12T15:03:26.977233Z",
     "start_time": "2024-12-12T15:03:26.973664Z"
    }
   },
   "id": "45c4ef117019f3d9",
   "execution_count": 18
  },
  {
   "cell_type": "code",
   "outputs": [
    {
     "data": {
      "text/plain": "               Disease                                         Medication\n0     Fungal infection  ['Antifungal Cream', 'Fluconazole', 'Terbinafi...\n1              Allergy  ['Antihistamines', 'Decongestants', 'Epinephri...\n2                 GERD  ['Proton Pump Inhibitors (PPIs)', 'H2 Blockers...\n3  Chronic cholestasis  ['Ursodeoxycholic acid', 'Cholestyramine', 'Me...\n4        Drug Reaction  ['Antihistamines', 'Epinephrine', 'Corticoster...",
      "text/html": "<div>\n<style scoped>\n    .dataframe tbody tr th:only-of-type {\n        vertical-align: middle;\n    }\n\n    .dataframe tbody tr th {\n        vertical-align: top;\n    }\n\n    .dataframe thead th {\n        text-align: right;\n    }\n</style>\n<table border=\"1\" class=\"dataframe\">\n  <thead>\n    <tr style=\"text-align: right;\">\n      <th></th>\n      <th>Disease</th>\n      <th>Medication</th>\n    </tr>\n  </thead>\n  <tbody>\n    <tr>\n      <th>0</th>\n      <td>Fungal infection</td>\n      <td>['Antifungal Cream', 'Fluconazole', 'Terbinafi...</td>\n    </tr>\n    <tr>\n      <th>1</th>\n      <td>Allergy</td>\n      <td>['Antihistamines', 'Decongestants', 'Epinephri...</td>\n    </tr>\n    <tr>\n      <th>2</th>\n      <td>GERD</td>\n      <td>['Proton Pump Inhibitors (PPIs)', 'H2 Blockers...</td>\n    </tr>\n    <tr>\n      <th>3</th>\n      <td>Chronic cholestasis</td>\n      <td>['Ursodeoxycholic acid', 'Cholestyramine', 'Me...</td>\n    </tr>\n    <tr>\n      <th>4</th>\n      <td>Drug Reaction</td>\n      <td>['Antihistamines', 'Epinephrine', 'Corticoster...</td>\n    </tr>\n  </tbody>\n</table>\n</div>"
     },
     "execution_count": 13,
     "metadata": {},
     "output_type": "execute_result"
    }
   ],
   "source": [
    "medications_df.head()"
   ],
   "metadata": {
    "collapsed": false,
    "ExecuteTime": {
     "end_time": "2024-12-12T15:00:38.520901Z",
     "start_time": "2024-12-12T15:00:38.511491Z"
    }
   },
   "id": "264fce2823931aeb",
   "execution_count": 13
  },
  {
   "cell_type": "code",
   "outputs": [
    {
     "data": {
      "text/plain": "   Unnamed: 0           Disease   Symptom_1              Symptom_2  \\\n0           0  Fungal infection     itching              skin_rash   \n1           1  Fungal infection   skin_rash   nodal_skin_eruptions   \n2           2  Fungal infection     itching   nodal_skin_eruptions   \n3           3  Fungal infection     itching              skin_rash   \n4           4  Fungal infection     itching              skin_rash   \n\n               Symptom_3             Symptom_4  \n0   nodal_skin_eruptions   dischromic _patches  \n1    dischromic _patches                   NaN  \n2    dischromic _patches                   NaN  \n3    dischromic _patches                   NaN  \n4   nodal_skin_eruptions                   NaN  ",
      "text/html": "<div>\n<style scoped>\n    .dataframe tbody tr th:only-of-type {\n        vertical-align: middle;\n    }\n\n    .dataframe tbody tr th {\n        vertical-align: top;\n    }\n\n    .dataframe thead th {\n        text-align: right;\n    }\n</style>\n<table border=\"1\" class=\"dataframe\">\n  <thead>\n    <tr style=\"text-align: right;\">\n      <th></th>\n      <th>Unnamed: 0</th>\n      <th>Disease</th>\n      <th>Symptom_1</th>\n      <th>Symptom_2</th>\n      <th>Symptom_3</th>\n      <th>Symptom_4</th>\n    </tr>\n  </thead>\n  <tbody>\n    <tr>\n      <th>0</th>\n      <td>0</td>\n      <td>Fungal infection</td>\n      <td>itching</td>\n      <td>skin_rash</td>\n      <td>nodal_skin_eruptions</td>\n      <td>dischromic _patches</td>\n    </tr>\n    <tr>\n      <th>1</th>\n      <td>1</td>\n      <td>Fungal infection</td>\n      <td>skin_rash</td>\n      <td>nodal_skin_eruptions</td>\n      <td>dischromic _patches</td>\n      <td>NaN</td>\n    </tr>\n    <tr>\n      <th>2</th>\n      <td>2</td>\n      <td>Fungal infection</td>\n      <td>itching</td>\n      <td>nodal_skin_eruptions</td>\n      <td>dischromic _patches</td>\n      <td>NaN</td>\n    </tr>\n    <tr>\n      <th>3</th>\n      <td>3</td>\n      <td>Fungal infection</td>\n      <td>itching</td>\n      <td>skin_rash</td>\n      <td>dischromic _patches</td>\n      <td>NaN</td>\n    </tr>\n    <tr>\n      <th>4</th>\n      <td>4</td>\n      <td>Fungal infection</td>\n      <td>itching</td>\n      <td>skin_rash</td>\n      <td>nodal_skin_eruptions</td>\n      <td>NaN</td>\n    </tr>\n  </tbody>\n</table>\n</div>"
     },
     "execution_count": 16,
     "metadata": {},
     "output_type": "execute_result"
    }
   ],
   "source": [
    "symptoms_df.head()"
   ],
   "metadata": {
    "collapsed": false,
    "ExecuteTime": {
     "end_time": "2024-12-12T15:01:37.392768Z",
     "start_time": "2024-12-12T15:01:37.382414Z"
    }
   },
   "id": "7ee206ac3e41b2a3",
   "execution_count": 16
  },
  {
   "cell_type": "code",
   "outputs": [],
   "source": [
    "# Standardize disease names\n",
    "description_df['Disease'] = description_df['Disease'].str.lower().str.strip()\n",
    "medications_df['Disease'] = medications_df['Disease'].str.lower().str.strip()\n",
    "symptoms_df['Disease'] = symptoms_df['Disease'].str.lower().str.strip()\n"
   ],
   "metadata": {
    "collapsed": false,
    "ExecuteTime": {
     "end_time": "2024-12-12T15:09:42.431887Z",
     "start_time": "2024-12-12T15:09:42.420930Z"
    }
   },
   "id": "e31ab590091202e2",
   "execution_count": 20
  },
  {
   "cell_type": "code",
   "outputs": [],
   "source": [],
   "metadata": {
    "collapsed": false,
    "ExecuteTime": {
     "end_time": "2024-12-12T15:10:21.353574Z",
     "start_time": "2024-12-12T15:10:21.350526Z"
    }
   },
   "id": "8cd6a64213cfe79a",
   "execution_count": 21
  },
  {
   "cell_type": "code",
   "outputs": [],
   "source": [],
   "metadata": {
    "collapsed": false
   },
   "id": "d4275569b5850380"
  }
 ],
 "metadata": {
  "kernelspec": {
   "display_name": "Python 3",
   "language": "python",
   "name": "python3"
  },
  "language_info": {
   "codemirror_mode": {
    "name": "ipython",
    "version": 2
   },
   "file_extension": ".py",
   "mimetype": "text/x-python",
   "name": "python",
   "nbconvert_exporter": "python",
   "pygments_lexer": "ipython2",
   "version": "2.7.6"
  }
 },
 "nbformat": 4,
 "nbformat_minor": 5
}

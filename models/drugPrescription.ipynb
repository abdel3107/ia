{
 "cells": [
  {
   "cell_type": "code",
   "outputs": [],
   "source": [
    "import pandas as pd\n",
    "import matplotlib.pyplot as plt\n",
    "import seaborn as sns\n",
    "from itertools import chain\n",
    "\n",
    "\n",
    "# Load datasets\n",
    "description_df = pd.read_csv('../dataset/description.csv')\n",
    "medications_df = pd.read_csv('../dataset/medications.csv')\n",
    "symptoms_df = pd.read_csv('../dataset/symptoms_df.csv')\n"
   ],
   "metadata": {
    "collapsed": false,
    "ExecuteTime": {
     "end_time": "2024-12-19T12:05:54.047376Z",
     "start_time": "2024-12-19T12:05:53.988336Z"
    }
   },
   "id": "9256c71eb7b8b0c8",
   "execution_count": 72
  },
  {
   "cell_type": "code",
   "outputs": [],
   "source": [
    "description_df.describe()\n"
   ],
   "metadata": {
    "collapsed": false
   },
   "id": "c75eb07d421c483b",
   "execution_count": null
  },
  {
   "cell_type": "code",
   "outputs": [],
   "source": [
    "medications_df.describe()"
   ],
   "metadata": {
    "collapsed": false
   },
   "id": "b944957da0af281c",
   "execution_count": null
  },
  {
   "cell_type": "code",
   "outputs": [],
   "source": [
    "symptoms_df.describe()"
   ],
   "metadata": {
    "collapsed": false
   },
   "id": "5a8757946ddc4296",
   "execution_count": null
  },
  {
   "cell_type": "code",
   "outputs": [],
   "source": [],
   "metadata": {
    "collapsed": false
   },
   "id": "45c4ef117019f3d9",
   "execution_count": null
  },
  {
   "cell_type": "code",
   "outputs": [],
   "source": [
    "medications_df.head()"
   ],
   "metadata": {
    "collapsed": false
   },
   "id": "264fce2823931aeb",
   "execution_count": null
  },
  {
   "cell_type": "code",
   "outputs": [],
   "source": [
    "symptoms_df.head()"
   ],
   "metadata": {
    "collapsed": false
   },
   "id": "7ee206ac3e41b2a3",
   "execution_count": null
  },
  {
   "cell_type": "code",
   "outputs": [],
   "source": [
    "# Standardize disease names\n",
    "description_df['Disease'] = description_df['Disease'].str.lower().str.strip()\n",
    "medications_df['Disease'] = medications_df['Disease'].str.lower().str.strip()\n",
    "symptoms_df['Disease'] = symptoms_df['Disease'].str.lower().str.strip()\n"
   ],
   "metadata": {
    "collapsed": false
   },
   "id": "e31ab590091202e2",
   "execution_count": null
  },
  {
   "cell_type": "code",
   "outputs": [],
   "source": [
    "description_df.isnull().sum()\n"
   ],
   "metadata": {
    "collapsed": false
   },
   "id": "8cd6a64213cfe79a",
   "execution_count": null
  },
  {
   "cell_type": "code",
   "outputs": [],
   "source": [
    "medications_df.isnull().sum()\n"
   ],
   "metadata": {
    "collapsed": false
   },
   "id": "a21d965ea3e96165",
   "execution_count": null
  },
  {
   "cell_type": "code",
   "outputs": [],
   "source": [
    "symptoms_df.isnull().sum()"
   ],
   "metadata": {
    "collapsed": false
   },
   "id": "d7212b4ff569ae7f",
   "execution_count": null
  },
  {
   "cell_type": "code",
   "outputs": [],
   "source": [],
   "metadata": {
    "collapsed": false
   },
   "id": "c308233fc730f3c9",
   "execution_count": null
  },
  {
   "cell_type": "code",
   "outputs": [],
   "source": [
    "# Merge datasets\n",
    "merged_df = symptoms_df.merge(medications_df, on='Disease', how='inner')\n",
    "merged_df = merged_df.merge(description_df, on='Disease', how='inner')\n"
   ],
   "metadata": {
    "collapsed": false
   },
   "id": "d4275569b5850380",
   "execution_count": null
  },
  {
   "cell_type": "code",
   "outputs": [],
   "source": [],
   "metadata": {
    "collapsed": false
   },
   "id": "4ac610f4b8950477",
   "execution_count": null
  },
  {
   "cell_type": "code",
   "outputs": [],
   "source": [
    "merged_df.head(10)"
   ],
   "metadata": {
    "collapsed": false
   },
   "id": "837f2ac97c0baf29",
   "execution_count": null
  },
  {
   "cell_type": "code",
   "outputs": [],
   "source": [
    "# Save cleaned dataset\n",
    "merged_df.to_csv('processed_dataset.csv', index=False)\n"
   ],
   "metadata": {
    "collapsed": false
   },
   "id": "33712556425b17e1",
   "execution_count": null
  },
  {
   "cell_type": "code",
   "outputs": [],
   "source": [
    "# Check the shape of the dataset\n",
    "\n",
    "merged_df.describe()\n",
    "\n"
   ],
   "metadata": {
    "collapsed": false
   },
   "id": "dfc932c41ef233df",
   "execution_count": null
  },
  {
   "cell_type": "code",
   "outputs": [],
   "source": [
    "# Column-wise non-null counts and data types\n",
    "merged_df.info()\n"
   ],
   "metadata": {
    "collapsed": false
   },
   "id": "4e033d6f359599df",
   "execution_count": null
  },
  {
   "cell_type": "code",
   "outputs": [],
   "source": [
    "\n",
    "# View the first few rows\n",
    "merged_df.head()"
   ],
   "metadata": {
    "collapsed": false
   },
   "id": "85eeac4e0d2275e3",
   "execution_count": null
  },
  {
   "cell_type": "code",
   "outputs": [],
   "source": [
    "print(merged_df['Medication'].head())\n",
    "print(type(merged_df['Medication'].iloc[0]))  # Check the type of an individual cell\n"
   ],
   "metadata": {
    "collapsed": false
   },
   "id": "d2a1d21a0949025e",
   "execution_count": null
  },
  {
   "cell_type": "code",
   "outputs": [],
   "source": [
    "# Frequency of diseases\n",
    "disease_counts = merged_df['Disease'].value_counts()\n",
    "disease_counts"
   ],
   "metadata": {
    "collapsed": false
   },
   "id": "cfe7a4c25d471005",
   "execution_count": null
  },
  {
   "cell_type": "code",
   "outputs": [],
   "source": [
    "plt.figure(figsize=(10, 6))\n",
    "sns.barplot(x=disease_counts.index, y=disease_counts.values)\n",
    "plt.title(\"Distribution of Diseases\")\n",
    "plt.xlabel(\"Disease\")\n",
    "plt.ylabel(\"Count\")\n",
    "plt.xticks(rotation=45)\n",
    "plt.show()"
   ],
   "metadata": {
    "collapsed": false
   },
   "id": "157b75f5bf163749",
   "execution_count": null
  },
  {
   "cell_type": "code",
   "outputs": [],
   "source": [
    "import ast\n",
    "\n",
    "# Convert strings to lists\n",
    "merged_df['Medication'] = merged_df['Medication'].apply(\n",
    "    lambda x: ast.literal_eval(x) if isinstance(x, str) else x\n",
    ")"
   ],
   "metadata": {
    "collapsed": false
   },
   "id": "6ceebfc64828dd1e",
   "execution_count": null
  },
  {
   "cell_type": "code",
   "outputs": [],
   "source": [
    "# Frequency of medications (flatten if they are lists)\n",
    "\n",
    "all_medications = list(chain.from_iterable(merged_df['Medication']))\n",
    "medication_counts = pd.Series(all_medications).value_counts()\n",
    "\n",
    "medication_counts"
   ],
   "metadata": {
    "collapsed": false
   },
   "id": "930ce984e6dc8a54",
   "execution_count": null
  },
  {
   "cell_type": "code",
   "outputs": [],
   "source": [
    "# Plot top medications\n",
    "plt.figure(figsize=(10, 6))\n",
    "sns.barplot(x=medication_counts[:10].index, y=medication_counts[:10].values)\n",
    "plt.title(\"Top 10 Medications\")\n",
    "plt.xlabel(\"Medication\")\n",
    "plt.ylabel(\"Count\")\n",
    "plt.xticks(rotation=45)\n",
    "plt.show()"
   ],
   "metadata": {
    "collapsed": false
   },
   "id": "db250475addc7165",
   "execution_count": null
  },
  {
   "cell_type": "code",
   "outputs": [],
   "source": [
    "# Aggregate symptoms into a single column\n",
    "symptoms_columns = ['Symptom_1', 'Symptom_2', 'Symptom_3', 'Symptom_4']\n",
    "all_symptoms = merged_df[symptoms_columns].apply(lambda x: ', '.join(x.dropna()), axis=1)\n",
    "\n",
    "# Count occurrences of each symptom\n",
    "from collections import Counter\n",
    "\n",
    "symptom_counts = Counter(', '.join(all_symptoms).split(', '))\n",
    "\n",
    "# Plot top symptoms\n",
    "symptom_counts_df = pd.DataFrame(symptom_counts.items(), columns=['Symptom', 'Count']).sort_values(by='Count', ascending=False)\n",
    "\n",
    "plt.figure(figsize=(10, 6))\n",
    "sns.barplot(x=symptom_counts_df[:10]['Symptom'], y=symptom_counts_df[:10]['Count'])\n",
    "plt.title(\"Top 10 Symptoms\")\n",
    "plt.xlabel(\"Symptom\")\n",
    "plt.ylabel(\"Count\")\n",
    "plt.xticks(rotation=45)\n",
    "plt.show()\n"
   ],
   "metadata": {
    "collapsed": false
   },
   "id": "1607e3f7afe8bc5b",
   "execution_count": null
  },
  {
   "cell_type": "code",
   "outputs": [],
   "source": [
    "# Heatmap of diseases and symptoms\n",
    "disease_symptom_matrix = pd.crosstab(merged_df['Disease'], all_symptoms)\n",
    "sns.heatmap(disease_symptom_matrix, cmap='coolwarm', annot=False)\n",
    "plt.title(\"Disease-Symptom Relationship\")\n",
    "plt.show()\n"
   ],
   "metadata": {
    "collapsed": false
   },
   "id": "758dc75f87aaa3a2",
   "execution_count": null
  },
  {
   "cell_type": "code",
   "outputs": [],
   "source": [
    "from sklearn.preprocessing import MultiLabelBinarizer\n",
    "\n",
    "# Combine symptoms into a list for each disease\n",
    "merged_df['All_Symptoms'] = merged_df[['Symptom_1', 'Symptom_2', 'Symptom_3', 'Symptom_4']].values.tolist()\n",
    "\n",
    "\n",
    "\n"
   ],
   "metadata": {
    "collapsed": false
   },
   "id": "a4ecd084aabdea03",
   "execution_count": null
  },
  {
   "cell_type": "code",
   "outputs": [],
   "source": [
    "# Remove missing symptoms\n",
    "merged_df['All_Symptoms'] = merged_df['All_Symptoms'].apply(\n",
    "    lambda x: [symptom for symptom in x if pd.notna(symptom)]\n",
    ")\n",
    "\n",
    "# One-hot encode symptoms\n",
    "mlb = MultiLabelBinarizer()\n",
    "symptoms_encoded = mlb.fit_transform(merged_df['All_Symptoms'])\n",
    "\n",
    "# Create a DataFrame for the encoded symptoms\n",
    "symptoms_df = pd.DataFrame(symptoms_encoded, columns=mlb.classes_)\n",
    "\n"
   ],
   "metadata": {
    "collapsed": false
   },
   "id": "ecd1fa5c20003ca8",
   "execution_count": null
  },
  {
   "cell_type": "code",
   "outputs": [],
   "source": [
    "# Merge encoded symptoms with disease column\n",
    "final_df = pd.concat([merged_df['Disease'], symptoms_df], axis=1)\n",
    "\n",
    "# Features (X) and target (y)\n",
    "X = final_df.drop(columns=['Disease'])\n",
    "y = final_df['Disease']\n"
   ],
   "metadata": {
    "collapsed": false
   },
   "id": "930894ad6b75c3c8",
   "execution_count": null
  },
  {
   "cell_type": "code",
   "outputs": [],
   "source": [
    "from sklearn.ensemble import RandomForestClassifier\n",
    "import numpy as np\n",
    "\n",
    "# Example: Using RandomForest for feature importance\n",
    "rf = RandomForestClassifier(random_state=42)\n",
    "rf.fit(X, y)\n",
    "feature_importances = pd.Series(rf.feature_importances_, index=X.columns)\n",
    "top_features = feature_importances.nlargest(20).index\n",
    "X = X[top_features]\n"
   ],
   "metadata": {
    "collapsed": false
   },
   "id": "c33bcf91d7c02d4",
   "execution_count": null
  },
  {
   "cell_type": "code",
   "outputs": [],
   "source": [
    "from sklearn.model_selection import train_test_split\n",
    "from sklearn.ensemble import RandomForestClassifier\n",
    "\n",
    "# Split the data into training and testing sets\n",
    "X_train, X_test, y_train, y_test = train_test_split(X, y, test_size=0.2, random_state=42)\n",
    "\n",
    "# Initialize and train the model\n",
    "model = RandomForestClassifier(random_state=42)\n",
    "model.fit(X_train, y_train)\n"
   ],
   "metadata": {
    "collapsed": false
   },
   "id": "cea98749acc31f54",
   "execution_count": null
  },
  {
   "cell_type": "code",
   "outputs": [],
   "source": [
    "model.fit(X_train, y_train)\n"
   ],
   "metadata": {
    "collapsed": false
   },
   "id": "91e4aad8ff98283",
   "execution_count": null
  },
  {
   "cell_type": "code",
   "outputs": [],
   "source": [
    "from sklearn.metrics import classification_report, accuracy_score\n",
    "\n",
    "# Make predictions\n",
    "y_pred = model.predict(X_test)\n",
    "\n",
    "# Evaluate\n",
    "print(\"Accuracy:\", accuracy_score(y_test, y_pred))\n",
    "print(classification_report(y_test, y_pred))\n"
   ],
   "metadata": {
    "collapsed": false
   },
   "id": "c295f2b77781f614",
   "execution_count": null
  },
  {
   "cell_type": "code",
   "outputs": [],
   "source": [
    "from sklearn.model_selection import GridSearchCV\n",
    "\n",
    "param_grid = {\n",
    "    'n_estimators': [100, 200, 300],\n",
    "    'max_depth': [None, 10, 20],\n",
    "}\n",
    "grid_search = GridSearchCV(RandomForestClassifier(random_state=42), param_grid, cv=5)\n",
    "grid_search.fit(X_train, y_train)\n",
    "best_model = grid_search.best_estimator_\n"
   ],
   "metadata": {
    "collapsed": false
   },
   "id": "eb6e899fb1ba50d6",
   "execution_count": null
  },
  {
   "cell_type": "code",
   "outputs": [],
   "source": [
    "import joblib\n",
    "\n",
    "joblib.dump(model, 'disease_prediction_model.pkl')\n"
   ],
   "metadata": {
    "collapsed": false
   },
   "id": "2b9aa7b149351071",
   "execution_count": null
  },
  {
   "cell_type": "code",
   "outputs": [],
   "source": [
    "# Make predictions using the test set (X_test)\n",
    "y_pred = model.predict(X_test)\n",
    "\n"
   ],
   "metadata": {
    "collapsed": false
   },
   "id": "994d11c2ae9147d1",
   "execution_count": null
  },
  {
   "cell_type": "code",
   "outputs": [],
   "source": [
    "# Example symptoms input\n",
    "test_symptoms = [' high_fever', ' vomiting', ' chills', ' fatigue']\n",
    "\n",
    "# Encode the symptoms (ensure it matches the format used in training)\n",
    "test_encoded = pd.DataFrame(mlb.transform([test_symptoms]), columns=mlb.classes_)\n",
    "\n",
    "# Align the columns of the test data with the training data\n",
    "# Reindex the columns to match the training data (X_train.columns)\n",
    "test_encoded = test_encoded.reindex(columns=X_train.columns, fill_value=0)\n",
    "\n",
    "# Predict the disease\n",
    "predicted_disease = model.predict(test_encoded)\n",
    "print(\"Predicted Disease:\", predicted_disease[0])\n",
    "\n"
   ],
   "metadata": {
    "collapsed": false
   },
   "id": "7b546d2ade5e6670",
   "execution_count": null
  },
  {
   "cell_type": "code",
   "outputs": [],
   "source": [],
   "metadata": {
    "collapsed": false
   },
   "id": "426eb6edcfdd8e41",
   "execution_count": null
  },
  {
   "cell_type": "code",
   "outputs": [],
   "source": [
    "# Predicted disease\n",
    "predicted_disease = model.predict(test_encoded)[0]\n",
    "\n",
    "# Look up medications for the predicted disease\n",
    "prescribed_medications = medications_df.loc[medications_df['Disease'] == predicted_disease, 'Medication']\n",
    "\n",
    "# If multiple medications are listed, extract them\n",
    "if not prescribed_medications.empty:\n",
    "    medications_list = prescribed_medications.iloc[0]\n",
    "    print(f\"Prescribed Medications for {predicted_disease}: {medications_list}\")\n",
    "else:\n",
    "    print(f\"No medications found for the disease: {predicted_disease}\")\n"
   ],
   "metadata": {
    "collapsed": false
   },
   "id": "ba2635cad49eb892",
   "execution_count": null
  },
  {
   "cell_type": "code",
   "outputs": [],
   "source": [
    "def recommend_medication(symptoms):\n",
    "    # Encode symptoms\n",
    "    encoded_symptoms = pd.DataFrame(mlb.transform([symptoms]), columns=mlb.classes_)\n",
    "    encoded_symptoms = encoded_symptoms.reindex(columns=X_train.columns, fill_value=0)\n",
    "    \n",
    "    # Predict disease\n",
    "    predicted_disease = model.predict(encoded_symptoms)[0]\n",
    "    \n",
    "    # Look up medications\n",
    "    prescribed_medications = medications_df.loc[medications_df['Disease'] == predicted_disease, 'Medication']\n",
    "    \n",
    "    if not prescribed_medications.empty:\n",
    "        medications_list = prescribed_medications.iloc[0]\n",
    "        return predicted_disease, medications_list\n",
    "    else:\n",
    "        return predicted_disease, \"No medications found\"\n",
    "\n",
    "# Example usage\n",
    "symptoms = [' skin_rash', ' stomach_pain', ' vomiting', ' cough']\n",
    "disease, medications = recommend_medication(symptoms)\n",
    "print(f\"Predicted Disease: {disease}\")\n",
    "print(f\"Recommended Medications: {medications}\")\n"
   ],
   "metadata": {
    "collapsed": false
   },
   "id": "38021d6b2425aa9d",
   "execution_count": null
  },
  {
   "cell_type": "code",
   "outputs": [
    {
     "name": "stdout",
     "output_type": "stream",
     "text": [
      "[' abdominal_pain' ' acidity' ' altered_sensorium' ' anxiety' ' back_pain'\n",
      " ' blackheads' ' bladder_discomfort' ' blister' ' bloody_stool'\n",
      " ' blurred_and_distorted_vision' ' breathlessness' ' bruising'\n",
      " ' burning_micturition' ' chest_pain' ' chills' ' cold_hands_and_feets'\n",
      " ' constipation' ' continuous_feel_of_urine' ' continuous_sneezing'\n",
      " ' cough' ' cramps' ' dark_urine' ' dehydration' ' diarrhoea'\n",
      " ' dischromic _patches' ' distention_of_abdomen' ' dizziness'\n",
      " ' excessive_hunger' ' extra_marital_contacts' ' family_history'\n",
      " ' fatigue' ' foul_smell_of urine' ' headache' ' high_fever'\n",
      " ' hip_joint_pain' ' indigestion' ' irregular_sugar_level'\n",
      " ' irritation_in_anus' ' joint_pain' ' knee_pain' ' lack_of_concentration'\n",
      " ' lethargy' ' loss_of_appetite' ' loss_of_balance' ' mood_swings'\n",
      " ' movement_stiffness' ' muscle_wasting' ' muscle_weakness' ' nausea'\n",
      " ' neck_pain' ' nodal_skin_eruptions' ' obesity'\n",
      " ' pain_during_bowel_movements' ' pain_in_anal_region' ' painful_walking'\n",
      " ' patches_in_throat' ' pus_filled_pimples' ' red_sore_around_nose'\n",
      " ' restlessness' ' scurring' ' shivering' ' silver_like_dusting'\n",
      " ' skin_peeling' ' skin_rash' ' small_dents_in_nails'\n",
      " ' spotting_ urination' ' stiff_neck' ' stomach_pain' ' sunken_eyes'\n",
      " ' sweating' ' swelling_joints' ' swelling_of_stomach' ' swollen_legs'\n",
      " ' ulcers_on_tongue' ' vomiting' ' watering_from_eyes'\n",
      " ' weakness_in_limbs' ' weakness_of_one_body_side' ' weight_gain'\n",
      " ' weight_loss' ' yellow_crust_ooze' ' yellowing_of_eyes'\n",
      " ' yellowish_skin' 'itching']\n"
     ]
    }
   ],
   "source": [
    "mlb = MultiLabelBinarizer()\n",
    "\n",
    "# Fit the MultiLabelBinarizer on the symptoms column (AllSymptoms)\n",
    "mlb.fit(merged_df['All_Symptoms'].tolist())\n",
    "\n",
    "# Check the unique symptoms it has learned\n",
    "print(mlb.classes_)  # assuming the symptoms are in a list format\n"
   ],
   "metadata": {
    "collapsed": false,
    "ExecuteTime": {
     "end_time": "2024-12-19T12:12:38.449814Z",
     "start_time": "2024-12-19T12:12:38.439602Z"
    }
   },
   "id": "d8640775111ed724",
   "execution_count": 73
  },
  {
   "cell_type": "markdown",
   "source": [],
   "metadata": {
    "collapsed": false
   },
   "id": "ade0035024f29201"
  },
  {
   "cell_type": "code",
   "outputs": [],
   "source": [
    "# Transform the symptoms into binary format (Disease x Symptom matrix)\n",
    "encoded_symptoms = mlb.transform(merged_df['All_Symptoms'].tolist())\n",
    "\n",
    "# Convert it into a DataFrame for easier inspection\n",
    "encoded_symptoms_df = pd.DataFrame(encoded_symptoms, columns=mlb.classes_)\n",
    "\n",
    "# Add the disease column to the DataFrame to indicate which disease the symptoms belong to\n",
    "#encoded_symptoms_df['Disease'] = merged_df['Disease']\n",
    "\n",
    "# Now we have a Disease x Symptom matrix with 1's and 0's indicating symptom presence\n",
    "print(encoded_symptoms_df.head())\n"
   ],
   "metadata": {
    "collapsed": false
   },
   "id": "f8fa26063c4d2c66",
   "execution_count": null
  },
  {
   "cell_type": "code",
   "outputs": [],
   "source": [
    "# Save the MLB to a file\n",
    "joblib.dump(mlb, 'mlb.pkl')"
   ],
   "metadata": {
    "collapsed": false
   },
   "id": "bc168bd34dff0bbe",
   "execution_count": null
  },
  {
   "cell_type": "code",
   "outputs": [],
   "source": [
    "def getSymptomList():\n",
    "    return mlb.classes_"
   ],
   "metadata": {
    "collapsed": false,
    "ExecuteTime": {
     "end_time": "2024-12-19T12:20:55.163179Z",
     "start_time": "2024-12-19T12:20:55.158278Z"
    }
   },
   "id": "5e730870042f7f10",
   "execution_count": 74
  },
  {
   "cell_type": "code",
   "outputs": [
    {
     "name": "stdout",
     "output_type": "stream",
     "text": [
      "[' abdominal_pain' ' acidity' ' altered_sensorium' ' anxiety' ' back_pain'\n",
      " ' blackheads' ' bladder_discomfort' ' blister' ' bloody_stool'\n",
      " ' blurred_and_distorted_vision' ' breathlessness' ' bruising'\n",
      " ' burning_micturition' ' chest_pain' ' chills' ' cold_hands_and_feets'\n",
      " ' constipation' ' continuous_feel_of_urine' ' continuous_sneezing'\n",
      " ' cough' ' cramps' ' dark_urine' ' dehydration' ' diarrhoea'\n",
      " ' dischromic _patches' ' distention_of_abdomen' ' dizziness'\n",
      " ' excessive_hunger' ' extra_marital_contacts' ' family_history'\n",
      " ' fatigue' ' foul_smell_of urine' ' headache' ' high_fever'\n",
      " ' hip_joint_pain' ' indigestion' ' irregular_sugar_level'\n",
      " ' irritation_in_anus' ' joint_pain' ' knee_pain' ' lack_of_concentration'\n",
      " ' lethargy' ' loss_of_appetite' ' loss_of_balance' ' mood_swings'\n",
      " ' movement_stiffness' ' muscle_wasting' ' muscle_weakness' ' nausea'\n",
      " ' neck_pain' ' nodal_skin_eruptions' ' obesity'\n",
      " ' pain_during_bowel_movements' ' pain_in_anal_region' ' painful_walking'\n",
      " ' patches_in_throat' ' pus_filled_pimples' ' red_sore_around_nose'\n",
      " ' restlessness' ' scurring' ' shivering' ' silver_like_dusting'\n",
      " ' skin_peeling' ' skin_rash' ' small_dents_in_nails'\n",
      " ' spotting_ urination' ' stiff_neck' ' stomach_pain' ' sunken_eyes'\n",
      " ' sweating' ' swelling_joints' ' swelling_of_stomach' ' swollen_legs'\n",
      " ' ulcers_on_tongue' ' vomiting' ' watering_from_eyes'\n",
      " ' weakness_in_limbs' ' weakness_of_one_body_side' ' weight_gain'\n",
      " ' weight_loss' ' yellow_crust_ooze' ' yellowing_of_eyes'\n",
      " ' yellowish_skin' 'itching']\n"
     ]
    }
   ],
   "source": [
    "print(getSymptomList())"
   ],
   "metadata": {
    "collapsed": false,
    "ExecuteTime": {
     "end_time": "2024-12-19T12:21:18.072012Z",
     "start_time": "2024-12-19T12:21:18.067258Z"
    }
   },
   "id": "610e949879c80bcd",
   "execution_count": 76
  },
  {
   "cell_type": "code",
   "outputs": [],
   "source": [],
   "metadata": {
    "collapsed": false
   },
   "id": "6fc995fe5461256f"
  }
 ],
 "metadata": {
  "kernelspec": {
   "display_name": "Python 3",
   "language": "python",
   "name": "python3"
  },
  "language_info": {
   "codemirror_mode": {
    "name": "ipython",
    "version": 2
   },
   "file_extension": ".py",
   "mimetype": "text/x-python",
   "name": "python",
   "nbconvert_exporter": "python",
   "pygments_lexer": "ipython2",
   "version": "2.7.6"
  }
 },
 "nbformat": 4,
 "nbformat_minor": 5
}
